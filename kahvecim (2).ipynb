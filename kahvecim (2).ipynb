{
  "nbformat": 4,
  "nbformat_minor": 0,
  "metadata": {
    "colab": {
      "provenance": []
    },
    "kernelspec": {
      "name": "python3",
      "display_name": "Python 3"
    },
    "language_info": {
      "name": "python"
    }
  },
  "cells": [
    {
      "cell_type": "markdown",
      "source": [
        "# AKBANK GENAI BOOTCAMP PROJESİ: KAHVE TARİFLERİ RAG CHATBOT'U\n",
        "\n",
        "**Projenin Amacı:** RAG (Retrieval Augmented Generation) mimarisini kullanarak kahve tarifleri hakkında doğru bilgi sağlayan bir chatbot geliştirmek ve Gradio arayüzü ile sunmaktır.\n",
        "\n",
        "**Değerlendirme Kriterleri:** Bu Notebook, projenin tüm değerlendirme kriterlerini karşılayacak şekilde (Veri Seti Hazırlama, Çalışma Kılavuzu, Çözüm Mimarisi, Web Arayüzü/Product Kılavuzu) belgelenmiştir.\n",
        "---"
      ],
      "metadata": {
        "id": "LafLY9D54no4"
      }
    },
    {
      "cell_type": "code",
      "execution_count": null,
      "metadata": {
        "id": "VcBcVuFEx2wT"
      },
      "outputs": [],
      "source": [
        "# Gerekli LangChain, Gemini entegrasyonu, ChromaDB, ve BGE Embeddings kütüphanelerini kuralım\n",
        "!pip install -q langchain langchain-google-genai chromadb pypdf langchain-community sentence-transformers gradio\n",
        "print(\"Gerekli kütüphaneler kuruldu.\")"
      ]
    },
    {
      "cell_type": "markdown",
      "source": [
        "# 🛠️ 3. PROJE ADIMI: KODUNUZUN ÇALIŞMA KILAVUZU\n",
        "\n",
        "Projenin başarıyla çalıştırılabilmesi için gereken adımlar ve gereksinimler:\n",
        "\n",
        "1.  **Gereksinimler:** Python 3.10+ ve Colab Notebook ortamı kullanılmalıdır.\n",
        "2.  **Kütüphane Kurulumu:** Notebook'taki ilk hücrede bulunan `!pip install ...` komutları ile tüm bağımlılıklar kurulur.\n",
        "3.  **API Anahtarı:** Google Gemini API anahtarı alınmalı ve **'GEMINI_API_KEY'** adıyla Colab Secrets'a (Sırlar) tanımlanmalıdır.\n",
        "4.  **Çalıştırma:** Notebook'taki hücreler, sırayla ve hatasız bir şekilde çalıştırılmalıdır. İlgili python (veya notebook) dosyanızın çalıştırılması gibi adımlar burada yer alacaktır."
      ],
      "metadata": {
        "id": "Qz98IIqq497-"
      }
    },
    {
      "cell_type": "code",
      "source": [
        "import os\n",
        "from google.colab import userdata\n",
        "\n",
        "# Lütfen Colab'ın sol panelindeki Anahtar (🔒) simgesine tıklayarak\n",
        "# 'GEMINI_API_KEY' adıyla API anahtarınızı eklediğinizden emin olun.\n",
        "\n",
        "try:\n",
        "    GEMINI_API_KEY = userdata.get('GEMINI_API_KEY')\n",
        "    os.environ[\"GEMINI_API_KEY\"] = GEMINI_API_KEY\n",
        "    print(\"API Anahtarı başarıyla ayarlandı.\")\n",
        "except Exception as e:\n",
        "    print(f\"HATA: API anahtarı ayarlanırken sorun oluştu. Detay: {e}\")\n",
        "    print(\"Lütfen 'GEMINI_API_KEY' adıyla API anahtarınızı Colab Secrets'a ekleyin.\")\n",
        "\n",
        "# Geliştirme için kullanılacak modeller\n",
        "# Embedding için stabil bir HF modeli, LLM için Gemini kullanacağız.\n",
        "EMBEDDING_MODEL = \"BAAI/bge-small-en-v1.5\"\n",
        "LLM_MODEL = \"gemini-2.5-flash\"\n",
        "print(f\"Embedding Model: {EMBEDDING_MODEL}\")\n",
        "print(f\"LLM Model: {LLM_MODEL}\")"
      ],
      "metadata": {
        "id": "p8Qj4wobyTGV"
      },
      "execution_count": null,
      "outputs": []
    },
    {
      "cell_type": "code",
      "source": [
        "from langchain_community.document_loaders import TextLoader\n",
        "\n",
        "FILE_PATH = \"kahve_tarifleri.txt\"\n",
        "\n",
        "# Metin dosyasını LangChain'in TextLoader'ı ile okuyun\n",
        "loader = TextLoader(FILE_PATH)\n",
        "documents = loader.load()\n",
        "\n",
        "print(f\"Veri dosyası yüklendi. Toplam {len(documents)} adet doküman bulundu.\")\n",
        "print(f\"İlk 100 karakter: {documents[0].page_content[:100]}...\")"
      ],
      "metadata": {
        "id": "oUxmIxF3ya1b"
      },
      "execution_count": null,
      "outputs": []
    },
    {
      "cell_type": "markdown",
      "source": [
        "# ☕ 2. PROJE ADIMI: VERİ SETİ HAZIRLAMA\n",
        "\n",
        "Bu projede kullanılan veri seti, **24 farklı popüler kahve tarifini (Türk Kahvesi, Latte, Mocha, Cold Brew vb.)** ve bunların yapılış adımlarını, malzemelerini içeren **kahve_tarifleri.txt** adlı metin dosyasıdır.\n",
        "\n",
        "Veri setinizle ilgili genel bilgilerden, içeriğinden ve proje konunuzdan bahsetmeniz yeterlidir. Veri, RAG sisteminin bilgi tabanını oluşturmaktadır."
      ],
      "metadata": {
        "id": "bHaFyWFV44Le"
      }
    },
    {
      "cell_type": "markdown",
      "source": [
        "# 🏗️ 4. PROJE ADIMI: ÇÖZÜM MİMARİNİZ\n",
        "\n",
        "Bu proje, LangChain çerçevesini kullanan standart bir RAG (Retrieval Augmented Generation) mimarisi ile tasarlanmıştır.\n",
        "\n",
        "**Projenin Çözdüğü Problem:** Kullanıcıların statik bir dokümandan (kahve tarifleri) aradıkları bilgiyi, karmaşık bir arama yapmadan, doğal dil kullanarak anında doğru bir şekilde almasını sağlamaktır.\n",
        "\n",
        "**RAG Mimarisi Bileşenleri:**\n",
        "\n",
        "| RAG Aşaması | Bileşen | Kullanılan Teknoloji | Açıklama |\n",
        "| :--- | :--- | :--- | :--- |\n",
        "| **1. Veri Hazırlığı** | Loader & Splitter | `TextLoader` & `RecursiveCharacterTextSplitter` | Veri, hassasiyet için $400$ karakterlik parçalara ayrılır. |\n",
        "| **2. Gömme (Embedding)** | Embedding Model | HuggingFace BGE Embeddings | Parçalar, arama için sayısal vektörlere dönüştürülür. |\n",
        "| **3. Depolama & Erişim** | Vector Store & Retriever | ChromaDB & `db.as_retriever()` | Vektörler saklanır. Sorgu geldiğinde, en alakalı $3$ parça (`k=3`) geri getirilir. |\n",
        "| **4. Üretme (Generation)** | LLM & Prompt | Gemini 2.5 Flash | Geri getirilen bağlam, $\\text{Gemini}$'a gönderilerek son yanıt üretilir. |"
      ],
      "metadata": {
        "id": "zjoM1C7C5Suz"
      }
    },
    {
      "cell_type": "code",
      "source": [
        "from langchain.text_splitter import RecursiveCharacterTextSplitter\n",
        "\n",
        "# RAG hassasiyetini artırmak için küçük parçalar ve çakışma kullanıyoruz\n",
        "text_splitter = RecursiveCharacterTextSplitter(\n",
        "    chunk_size=400,       # Daha küçük parça boyutu\n",
        "    chunk_overlap=100,    # Parçalar arası çakışma\n",
        ")\n",
        "\n",
        "# Belgeleri parçalara ayırın\n",
        "texts = text_splitter.split_documents(documents)\n",
        "\n",
        "print(f\"Toplam bölünmüş parça (chunk) sayısı: {len(texts)}\")"
      ],
      "metadata": {
        "id": "Iix4giVVyf9B"
      },
      "execution_count": null,
      "outputs": []
    },
    {
      "cell_type": "code",
      "source": [
        "from langchain_community.embeddings import HuggingFaceBgeEmbeddings\n",
        "from langchain_community.vectorstores import Chroma\n",
        "\n",
        "# BGE Embeddings modelini kullanın (stabil ve Google API'a bağımlı değil)\n",
        "model_kwargs = {'device': 'cpu'}\n",
        "encode_kwargs = {'normalize_embeddings': True}\n",
        "\n",
        "embeddings = HuggingFaceBgeEmbeddings(\n",
        "    model_name=EMBEDDING_MODEL,\n",
        "    model_kwargs=model_kwargs,\n",
        "    encode_kwargs=encode_kwargs\n",
        ")\n",
        "\n",
        "print(\"HuggingFace Bge Embeddings modeli yüklendi.\")\n",
        "\n",
        "# ChromaDB veritabanını oluşturun ve veriyi ekleyin.\n",
        "db = Chroma.from_documents(texts, embeddings, persist_directory=\"./kahve_chroma_db\")\n",
        "\n",
        "print(\"ChromaDB Vektör Veritabanı oluşturuldu ve veriler eklendi.\")\n",
        "\n",
        "# Vektör veritabanını bir Geri Getirici'ye (Retriever) dönüştürün.\n",
        "retriever = db.as_retriever(search_kwargs={\"k\": 3})\n",
        "\n",
        "print(\"Retriever (Geri Getirici) kullanıma hazır.\")"
      ],
      "metadata": {
        "id": "UDQopuOgyjhH"
      },
      "execution_count": null,
      "outputs": []
    },
    {
      "cell_type": "code",
      "source": [
        "from langchain_google_genai import ChatGoogleGenerativeAI\n",
        "from langchain.chains import create_retrieval_chain\n",
        "from langchain.chains.combine_documents import create_stuff_documents_chain\n",
        "from langchain.prompts import ChatPromptTemplate\n",
        "\n",
        "# Gemini LLM Modelini ayarlayın (Generation adımı için)\n",
        "llm = ChatGoogleGenerativeAI(model=LLM_MODEL, temperature=0.2, api_key=os.environ[\"GEMINI_API_KEY\"])\n",
        "\n",
        "# RAG için kullanılacak Şablonu (Prompt) tanımlayın\n",
        "prompt = ChatPromptTemplate.from_messages([\n",
        "    (\"system\",\n",
        "     \"Sen bir Kahve Tarifleri Uzmanı Chatbot'sun. Yalnızca sağlanan 'Bağlam'daki kahve tariflerini kullanarak kullanıcı sorularını yanıtla. \"\n",
        "     \"Eğer tarif bağlamda yoksa, kibarca 'Bu tarifi maalesef bilgi kaynaklarımda bulamadım.' de.\"\n",
        "     \"\\n\\nBağlam: {context}\"),\n",
        "    (\"human\", \"{input}\"),\n",
        "])\n",
        "\n",
        "# Dokümanları birleştiren zinciri oluşturun\n",
        "document_chain = create_stuff_documents_chain(llm, prompt)\n",
        "\n",
        "# Geri getirme ve Üretme zincirlerini birleştirin\n",
        "rag_chain = create_retrieval_chain(retriever, document_chain)\n",
        "\n",
        "print(\"RAG Zinciri oluşturuldu. Şimdi test edelim.\")\n",
        "\n",
        "# TEST 1: Bilgi Kaynağında Olan Soru (Latte tarifi)\n",
        "test_soru_1 = \"Latte nasıl yapılır? Adımlarını söyle.\"\n",
        "response_1 = rag_chain.invoke({\"input\": test_soru_1})\n",
        "print(f\"\\nSORGU: {test_soru_1}\")\n",
        "print(\"--------------------------------------------------\")\n",
        "print(f\"CEVAP:\\n{response_1['answer']}\")"
      ],
      "metadata": {
        "id": "2kwKw80ry1GX"
      },
      "execution_count": null,
      "outputs": []
    },
    {
      "cell_type": "code",
      "source": [
        "import gradio as gr\n",
        "from gradio.themes.utils import colors\n",
        "import os\n",
        "\n",
        "# Chatbot'un ana işlevini Gradio için bir fonksiyona saralım\n",
        "def chatbot_response(message, history):\n",
        "    # 'rag_chain' objesi hafızada olmalıdır.\n",
        "    try:\n",
        "        response = rag_chain.invoke({\"input\": message})\n",
        "        answer = response[\"answer\"]\n",
        "\n",
        "        # Cevabın sonuna not ekleme\n",
        "        return answer + \"\\n\\n*(Bilgiler, kahve tarifleri bilgi kaynağımızdan derlenmiştir.)*\"\n",
        "\n",
        "    except Exception as e:\n",
        "        return f\"Üzgünüm, bir hata oluştu: {e}\"\n",
        "\n",
        "# Gradio arayüzünü oluşturun (Basit ve Temalı Versiyon)\n",
        "demo = gr.ChatInterface(\n",
        "    fn=chatbot_response,\n",
        "    title=\"☕ Kahve Tarifleri Uzmanı Chatbot ☕\",\n",
        "    textbox=gr.Textbox(placeholder=\"Örn: Frappe nasıl yapılır?\"),\n",
        "    chatbot=gr.Chatbot(height=400),\n",
        "    examples=[\"Latte nasıl yapılır?\", \"Affogato için malzemeler nelerdir?\", \"Dibek kahvesi ile Türk kahvesi arasındaki fark nedir?\"],\n",
        "\n",
        "    # Kahve temasına uygun renkler\n",
        "    theme=gr.themes.Soft(\n",
        "        primary_hue=colors.orange,\n",
        "        secondary_hue=colors.blue,\n",
        "        neutral_hue=colors.gray\n",
        "    ),\n",
        "    css=\"h1 {color: #6F4E37; font-family: 'Georgia', serif;}\"\n",
        ")\n",
        "\n",
        "# Colab'da çalıştırmak için \"share=True\"\n",
        "print(\"Gradio Arayüzü başlatılıyor. Lütfen çıkan Public URL'yi kullanın.\")\n",
        "demo.queue().launch(share=True)"
      ],
      "metadata": {
        "id": "BrPafBC6y8zV"
      },
      "execution_count": null,
      "outputs": []
    },
    {
      "cell_type": "markdown",
      "source": [
        "# 🖥️ 5. PROJE ADIMI: WEB ARAYÜZÜ & PRODUCT KILAVUZU\n",
        "\n",
        "Projenin canlı demosu, Gradio kullanılarak sunulmuştur. Bu arayüz, projenin kabiliyetlerini doğrudan test etmenizi sağlar.\n",
        "\n",
        "**Deploy Linkiniz:**\n",
        "(Lütfen buraya Gradio'dan aldığınız **geçici veya kalıcı** Public URL'yi yapıştırın.)\n",
        "\n",
        "**Çalışma Akışı ve Test:**\n",
        "1.  Yukarıdaki linke tıklayarak chatbot arayüzüne erişin.\n",
        "2.  Arayüz, temalı yapısı sayesinde kullanıcı dostu bir deneyim sunar.\n",
        "3.  Projenin kabiliyetlerini test etmek için aşağıdaki soruları kullanabilirsiniz:\n",
        "    * **Latte Tarifi:** \"Latte nasıl yapılır? Adım adım anlat.\"\n",
        "    * **Malzeme Sorgulama:** \"Affogato için gereken malzemeler nelerdir?\"\n",
        "    * **Karşılaştırma:** \"Dibek kahvesi ile normal Türk kahvesi arasındaki fark nedir?\"\n",
        "    * **Dış Bilgi Sınama:** \"Su ısıtıcısı ne zaman icat edildi?\" (Bu soruya \"bilgi kaynaklarımda bulamadım\" yanıtını vermesi beklenir.)"
      ],
      "metadata": {
        "id": "u6zPuXQu5YRg"
      }
    }
  ]
}